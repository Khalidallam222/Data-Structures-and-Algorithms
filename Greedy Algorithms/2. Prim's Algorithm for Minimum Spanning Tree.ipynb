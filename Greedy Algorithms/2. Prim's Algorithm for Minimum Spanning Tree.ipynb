{
 "cells": [
  {
   "cell_type": "markdown",
   "source": [
    "# Prim's Algorithms and Kruskal’s Algorithm "
   ],
   "metadata": {
    "collapsed": false
   },
   "id": "276ace598cdb3951"
  },
  {
   "cell_type": "markdown",
   "source": [
    " first you need to read about some topics in Graph Theory:\n",
    " - Graphs \n",
    " - Trees\n",
    " - Spanning trees\n",
    " - Minimum spanning tree\n",
    "\n",
    "\n",
    "so see the link below:\n",
    "[trees and spanning trees](https://jennifer_shloming.gitlab.io/intro-graph-theory/trees-and-spanning-trees.html)"
   ],
   "metadata": {
    "collapsed": false
   },
   "id": "9381a5b2fd82782"
  },
  {
   "cell_type": "markdown",
   "source": [
    "you will watch this video after reading about trees and spanning trees\n",
    "[Good Tutorial](https://youtu.be/4ZlRH0eK-qQ?si=JiACeIXDLdfSwTVE)"
   ],
   "metadata": {
    "collapsed": false
   },
   "id": "26090cf797a2bac2"
  },
  {
   "cell_type": "markdown",
   "source": [
    "# Implementaion of the algorithm\n",
    "watch this video for the implementation [link](https://youtu.be/5ZYBFcPSvvE?si=F-eW07u97tWq5G29)"
   ],
   "metadata": {
    "collapsed": false
   },
   "id": "30ad7d280cece2c"
  },
  {
   "cell_type": "markdown",
   "source": [
    "## Remember heapq  "
   ],
   "metadata": {
    "collapsed": false
   },
   "id": "8f7355ab53d6062f"
  },
  {
   "cell_type": "code",
   "outputs": [],
   "source": [
    "from heapq import heapify, heappop, heappush\n",
    "\n",
    "# Example usage:\n",
    "heap = [3, 1, 4, 1, 5, 9, 2, 6, 5, 3, 5]\n",
    "heapify(heap)\n",
    "\n",
    "# Add elements to the heap\n",
    "heappush(heap, 0)\n",
    "heappush(heap, 8)\n",
    "\n",
    "print(\"Min-Heap before extracting min:\", heap)   \n",
    "# Extract the smallest element\n",
    "smallest = heappop(heap)\n",
    "\n",
    "print(\"Min-Heap:\", heap)\n",
    "print(\"Smallest Element:\", smallest)"
   ],
   "metadata": {
    "collapsed": false
   },
   "id": "97488adc1a747eec"
  },
  {
   "cell_type": "markdown",
   "source": [],
   "metadata": {
    "collapsed": false
   },
   "id": "5a7f0aaaad23d072"
  },
  {
   "cell_type": "code",
   "outputs": [
    {
     "name": "stdout",
     "output_type": "stream",
     "text": [
      "[(0, 2, 3), (2, 3, 3), (3, 1, 2), (3, 5, 2), (0, 4, 7)]\n"
     ]
    }
   ],
   "source": [
    "import heapq\n",
    "\n",
    "mst = []\n",
    "usedVertices = set()\n",
    "with open(\"MST.txt\") as f:\n",
    "    numVertices = int(f.readline())\n",
    "    edges = [[] for _ in range(numVertices)] # Heap\n",
    "    for line in f.readlines():\n",
    "        edge = tuple(map(int, line.split(\" \")))\n",
    "        if edge[0] == edge[1]: continue # no self loops \n",
    "        heapq.heappush(edges[edge[0]], (edge[2], edge[1])) # Pushing tuple(edge[2], edge[1]) -> (cost, end_point) to list at index edge[0] like this  [(2, 3), (5, 1)]\n",
    "        heapq.heappush(edges[edge[1]], (edge[2], edge[0]))\n",
    "\n",
    "cost, dest = 0, 1\n",
    "while len(usedVertices) < numVertices: # mst is not full\n",
    "    vertexWithSmallestEdge = 0\n",
    "    for vertex in usedVertices:\n",
    "        while len(edges[vertex]) > 0 and edges[vertex][0][dest] in usedVertices:\n",
    "            heapq.heappop(edges[vertex])\n",
    "            \n",
    "        if len(edges[vertex]) == 0: continue\n",
    "        \n",
    "        if len(edges[vertexWithSmallestEdge]) == 0 or edges[vertex][0][cost] < edges[vertexWithSmallestEdge][0][cost]:\n",
    "            vertexWithSmallestEdge = vertex\n",
    "    edge = heapq.heappop(edges[vertexWithSmallestEdge])\n",
    "    mst.append((vertexWithSmallestEdge, edge[dest], edge[cost]))\n",
    "    usedVertices.add(vertexWithSmallestEdge)\n",
    "    usedVertices.add(edge[dest])\n",
    "\n",
    "print(mst)\n",
    "    "
   ],
   "metadata": {
    "collapsed": false,
    "ExecuteTime": {
     "end_time": "2024-03-13T13:36:56.035763283Z",
     "start_time": "2024-03-13T13:36:55.992830126Z"
    }
   },
   "id": "6441055eea4a6f2b",
   "execution_count": 30
  },
  {
   "cell_type": "code",
   "outputs": [],
   "source": [],
   "metadata": {
    "collapsed": false
   },
   "id": "86013f8347591939"
  },
  {
   "cell_type": "code",
   "outputs": [],
   "source": [],
   "metadata": {
    "collapsed": false
   },
   "id": "918bd6059e0fd7fb"
  },
  {
   "cell_type": "code",
   "outputs": [],
   "source": [],
   "metadata": {
    "collapsed": false
   },
   "id": "b9562b7cadfc8a58"
  },
  {
   "cell_type": "code",
   "outputs": [],
   "source": [],
   "metadata": {
    "collapsed": false
   },
   "id": "6826323881d8e753"
  },
  {
   "cell_type": "code",
   "outputs": [],
   "source": [],
   "metadata": {
    "collapsed": false
   },
   "id": "bdf47a57adf2ada7"
  },
  {
   "cell_type": "code",
   "outputs": [],
   "source": [],
   "metadata": {
    "collapsed": false
   },
   "id": "5ea84bceab1ad560"
  },
  {
   "cell_type": "code",
   "outputs": [],
   "source": [],
   "metadata": {
    "collapsed": false
   },
   "id": "f53602a6d5412cb7"
  },
  {
   "cell_type": "code",
   "outputs": [],
   "source": [],
   "metadata": {
    "collapsed": false
   },
   "id": "e216474b213641a6"
  },
  {
   "cell_type": "code",
   "outputs": [],
   "source": [],
   "metadata": {
    "collapsed": false
   },
   "id": "f571d155df6d22e"
  },
  {
   "cell_type": "code",
   "outputs": [],
   "source": [],
   "metadata": {
    "collapsed": false
   },
   "id": "a5355911c47e3b27"
  },
  {
   "cell_type": "code",
   "outputs": [],
   "source": [],
   "metadata": {
    "collapsed": false
   },
   "id": "1d83e32b6f3bcd07"
  },
  {
   "cell_type": "code",
   "outputs": [
    {
     "name": "stdout",
     "output_type": "stream",
     "text": [
      "0\n",
      "0\n",
      "0\n",
      "0\n",
      "1\n",
      "1\n",
      "1\n",
      "2\n",
      "2\n",
      "3\n"
     ]
    }
   ],
   "source": [
    "with open(\"MST.txt\") as f:\n",
    "    numVertices = int(f.readline())\n",
    "    for line in f.readlines():\n",
    "        edge = tuple(map(int, line.split(' ')))\n",
    "        if edge[0]==edge[1]: continue # no self loops \n",
    "        print(edge[0])\n",
    "        heapq.heappush(edges[edge[0]], (edge[2], edge[1]))\n",
    "        heapq.heappush(edges[edge[1]], (edge[2], edge[0]))\n",
    "        "
   ],
   "metadata": {
    "collapsed": false,
    "ExecuteTime": {
     "end_time": "2024-03-13T13:04:55.081709648Z",
     "start_time": "2024-03-13T13:04:55.069565437Z"
    }
   },
   "id": "5cc4b4bc2c0d137e",
   "execution_count": 23
  },
  {
   "cell_type": "code",
   "outputs": [
    {
     "name": "stdout",
     "output_type": "stream",
     "text": [
      "<module 'heapq' from '/usr/lib/python3.10/heapq.py'>\n"
     ]
    }
   ],
   "source": [],
   "metadata": {
    "collapsed": false,
    "ExecuteTime": {
     "end_time": "2024-03-13T12:27:39.103781489Z",
     "start_time": "2024-03-13T12:27:39.059666236Z"
    }
   },
   "id": "690b051024465357",
   "execution_count": 18
  }
 ],
 "metadata": {
  "kernelspec": {
   "display_name": "Python 3",
   "language": "python",
   "name": "python3"
  },
  "language_info": {
   "codemirror_mode": {
    "name": "ipython",
    "version": 2
   },
   "file_extension": ".py",
   "mimetype": "text/x-python",
   "name": "python",
   "nbconvert_exporter": "python",
   "pygments_lexer": "ipython2",
   "version": "2.7.6"
  }
 },
 "nbformat": 4,
 "nbformat_minor": 5
}

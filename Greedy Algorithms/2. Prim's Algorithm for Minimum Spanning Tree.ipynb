{
 "cells": [
  {
   "cell_type": "markdown",
   "source": [
    "# Prim's Algorithms and Kruskal’s Algorithm "
   ],
   "metadata": {
    "collapsed": false
   },
   "id": "276ace598cdb3951"
  },
  {
   "cell_type": "markdown",
   "source": [
    " first you need to read about some topics in Graph Theory:\n",
    " - Graphs \n",
    " - Trees\n",
    " - Spanning trees\n",
    " - Minimum spanning tree\n",
    "\n",
    "\n",
    "so see the link below:\n",
    "[trees and spanning trees](https://jennifer_shloming.gitlab.io/intro-graph-theory/trees-and-spanning-trees.html)"
   ],
   "metadata": {
    "collapsed": false
   },
   "id": "9381a5b2fd82782"
  },
  {
   "cell_type": "markdown",
   "source": [
    "[Good Tutorial](https://youtu.be/4ZlRH0eK-qQ?si=JiACeIXDLdfSwTVE)\n",
    "    you will watch this video after reading about trees and spanning trees\n",
    "   "
   ],
   "metadata": {
    "collapsed": false
   },
   "id": "26090cf797a2bac2"
  },
  {
   "cell_type": "code",
   "outputs": [],
   "source": [],
   "metadata": {
    "collapsed": false
   },
   "id": "16b2fffedbca658b"
  }
 ],
 "metadata": {
  "kernelspec": {
   "display_name": "Python 3",
   "language": "python",
   "name": "python3"
  },
  "language_info": {
   "codemirror_mode": {
    "name": "ipython",
    "version": 2
   },
   "file_extension": ".py",
   "mimetype": "text/x-python",
   "name": "python",
   "nbconvert_exporter": "python",
   "pygments_lexer": "ipython2",
   "version": "2.7.6"
  }
 },
 "nbformat": 4,
 "nbformat_minor": 5
}
